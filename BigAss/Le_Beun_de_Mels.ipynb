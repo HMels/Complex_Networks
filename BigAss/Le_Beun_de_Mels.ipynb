{
 "cells": [
  {
   "cell_type": "code",
   "execution_count": 55,
   "metadata": {
    "Collapsed": "false"
   },
   "outputs": [],
   "source": [
    "import numpy as np\n",
    "import pandas as pd\n",
    "import timeit\n",
    "import matplotlib.pyplot as plt\n",
    "\n",
    "#data = pd.read_excel (r'C:\\Users\\Thierry\\Documents\\Studie\\TU Delft Applied Physics\\CS4195 Modeling and Data Analysis in Complex Networks\\Assignment1\\manufacturing_emails_temporal_network.xlsx')\n",
    "data = pd.read_excel (r'../manufacturing_emails_temporal_network.xlsx')\n",
    "#data = pd.read_excel (r'C:\\Users\\rixtb\\Documents\\Master\\Data analysis\\Datasets\\oefenset.xlsx')\n",
    "\n",
    "#%% A\n",
    "Nnodes = np.max([data['node1'].max(), data['node2'].max()])\n",
    "G = data.drop(['timestamp'],axis=1); B = data.drop_duplicates()\n",
    "\n",
    "col1 = B['node1']; col1 = col1.tolist()\n",
    "col2 = B['node2']; col2 = col2.tolist()\n",
    "col3 = data['timestamp']; col3 = col3.tolist()\n",
    "\n",
    "shuff = np.random.randint(0,len(col1),len(col3))\n",
    "\n",
    "G3 = np.zeros([len(col3),3],dtype=int)\n",
    "\n",
    "for i in range(len(col3)):\n",
    "    G3[i,:]=np.array([col1[shuff[i]],col2[shuff[i]],col3[i]])"
   ]
  },
  {
   "cell_type": "code",
   "execution_count": 18,
   "metadata": {
    "Collapsed": "false"
   },
   "outputs": [
    {
     "name": "stdout",
     "output_type": "stream",
     "text": [
      "Time: 42.220527928788215\n"
     ]
    }
   ],
   "source": [
    "#%% B\n",
    "tmax = data.timestamp.max()\n",
    "Infections = np.zeros([tmax,Nnodes])\n",
    "\n",
    "start = timeit.default_timer()\n",
    "\n",
    "Aoud = np.eye(Nnodes)\n",
    "unit = np.eye(Nnodes)\n",
    "\n",
    "for i in range(1,tmax+1):\n",
    "    data_temp = G3[G3[:,2]==i]\n",
    "    A = np.zeros([Nnodes,Nnodes])\n",
    "    \n",
    "    for j in range(len(data_temp)):\n",
    "        A[data_temp[j,0]-1,data_temp[j,1]-1] = 1\n",
    "        A[data_temp[j,1]-1,data_temp[j,0]-1] = 1\n",
    "    \n",
    "    Inf = np.dot(A+unit,Aoud)\n",
    "    Inf[Inf>0]=1\n",
    "    Aoud = Inf\n",
    "    Infections[i-1,:] = np.sum(Inf, axis=0)\n",
    "        \n",
    "stop = timeit.default_timer()\n",
    "print('Time:',stop-start)"
   ]
  },
  {
   "cell_type": "code",
   "execution_count": 83,
   "metadata": {
    "Collapsed": "false"
   },
   "outputs": [
    {
     "name": "stderr",
     "output_type": "stream",
     "text": [
      "/opt/conda/lib/python3.7/site-packages/ipykernel_launcher.py:13: MatplotlibDeprecationWarning: \n",
      "The 'normed' kwarg was deprecated in Matplotlib 2.1 and will be removed in 3.1. Use 'density' instead.\n",
      "  del sys.path[0]\n"
     ]
    },
    {
     "data": {
      "image/png": "[encoded data removed]",
      "text/plain": [
       "<Figure size 432x288 with 1 Axes>"
      ]
     },
     "metadata": {
      "needs_background": "light"
     },
     "output_type": "display_data"
    }
   ],
   "source": [
    "#%% creating the inter-arrival time histogram\n",
    "dT = []\n",
    "for i in range(1,Nnodes):\n",
    "    delta_t = np.array([G3[G3[:,0]==i][:,2]])\n",
    "    delta_t = np.append(delta_t,G3[G3[:,1]==i][:,2])\n",
    "    delta_t = np.sort(delta_t)  #sorted list of all timestamps that belong to node i\n",
    "    if len(delta_t)>1: #must be at least 2 values\n",
    "        for j in range(len(delta_t)-1):\n",
    "            diff = delta_t[j+1]-delta_t[j] #time difference\n",
    "            if diff >0:\n",
    "                dT = np.append(dT,diff) #one gigantic list of timedifferences\n",
    "    \n",
    "plt.hist(dT,bins=100,normed=1)\n",
    "plt.xlabel('inter arrival time')\n",
    "plt.ylabel('logaritmic frequency')\n",
    "plt.gca().set_yscale(\"log\")\n",
    "plt.show()"
   ]
  },
  {
   "cell_type": "code",
   "execution_count": 75,
   "metadata": {
    "Collapsed": "false"
   },
   "outputs": [
    {
     "data": {
      "text/plain": [
       "0"
      ]
     },
     "execution_count": 75,
     "metadata": {},
     "output_type": "execute_result"
    }
   ],
   "source": [
    "len(np.argwhere(dT==0))"
   ]
  },
  {
   "cell_type": "code",
   "execution_count": 79,
   "metadata": {
    "Collapsed": "false"
   },
   "outputs": [
    {
     "data": {
      "text/plain": [
       "array([9.0000e+00, 4.0000e+00, 9.0000e+00, ..., 1.7022e+04, 1.0387e+04,\n",
       "       1.5730e+04])"
      ]
     },
     "execution_count": 79,
     "metadata": {},
     "output_type": "execute_result"
    }
   ],
   "source": [
    "dT"
   ]
  },
  {
   "cell_type": "code",
   "execution_count": null,
   "metadata": {
    "Collapsed": "false"
   },
   "outputs": [],
   "source": []
  }
 ],
 "metadata": {
  "kernelspec": {
   "display_name": "Python 3",
   "language": "python",
   "name": "python3"
  },
  "language_info": {
   "codemirror_mode": {
    "name": "ipython",
    "version": 3
   },
   "file_extension": ".py",
   "mimetype": "text/x-python",
   "name": "python",
   "nbconvert_exporter": "python",
   "pygments_lexer": "ipython3",
   "version": "3.7.3"
  }
 },
 "nbformat": 4,
 "nbformat_minor": 4
}
