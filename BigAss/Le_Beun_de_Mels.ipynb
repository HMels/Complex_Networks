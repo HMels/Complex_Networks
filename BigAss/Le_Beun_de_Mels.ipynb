{
 "cells": [
  {
   "cell_type": "code",
   "execution_count": 1,
   "metadata": {
    "Collapsed": "false"
   },
   "outputs": [],
   "source": [
    "import numpy as np\n",
    "import pandas as pd\n",
    "import timeit\n",
    "import matplotlib.pyplot as plt\n",
    "\n",
    "#data = pd.read_excel (r'C:\\Users\\Thierry\\Documents\\Studie\\TU Delft Applied Physics\\CS4195 Modeling and Data Analysis in Complex Networks\\Assignment1\\manufacturing_emails_temporal_network.xlsx')\n",
    "data = pd.read_excel (r'../manufacturing_emails_temporal_network.xlsx')\n",
    "#data = pd.read_excel (r'C:\\Users\\rixtb\\Documents\\Master\\Data analysis\\Datasets\\oefenset.xlsx')\n",
    "\n",
    "#%% A\n",
    "Nnodes = np.max([data['node1'].max(), data['node2'].max()])\n",
    "G = data.drop(['timestamp'],axis=1); B = data.drop_duplicates()\n",
    "\n",
    "col1 = B['node1']; col1 = col1.tolist()\n",
    "col2 = B['node2']; col2 = col2.tolist()\n",
    "col3 = data['timestamp']; col3 = col3.tolist()\n",
    "\n",
    "shuff = np.random.randint(0,len(col1),len(col3))\n",
    "\n",
    "G3 = np.zeros([len(col3),4],dtype=int)\n",
    "\n",
    "for i in range(len(col3)):\n",
    "    G3[i,:]=np.array([col1[shuff[i]],col2[shuff[i]],col3[i],shuff[i]]) #the last shuff[i] is to save the number of the link pair chosen"
   ]
  },
  {
   "cell_type": "code",
   "execution_count": 85,
   "metadata": {
    "Collapsed": "false"
   },
   "outputs": [
    {
     "name": "stdout",
     "output_type": "stream",
     "text": [
      "Time: 41.28950831480324\n"
     ]
    }
   ],
   "source": [
    "#%% B\n",
    "tmax = data.timestamp.max()\n",
    "Infections = np.zeros([tmax,Nnodes])\n",
    "\n",
    "start = timeit.default_timer()\n",
    "\n",
    "Aoud = np.eye(Nnodes)\n",
    "unit = np.eye(Nnodes)\n",
    "\n",
    "for i in range(1,tmax+1):\n",
    "    data_temp = G3[G3[:,2]==i]\n",
    "    A = np.zeros([Nnodes,Nnodes])\n",
    "    \n",
    "    for j in range(len(data_temp)):\n",
    "        A[data_temp[j,0]-1,data_temp[j,1]-1] = 1\n",
    "        A[data_temp[j,1]-1,data_temp[j,0]-1] = 1\n",
    "    \n",
    "    Inf = np.dot(A+unit,Aoud)\n",
    "    Inf[Inf>0]=1\n",
    "    Aoud = Inf\n",
    "    Infections[i-1,:] = np.sum(Inf, axis=0)\n",
    "        \n",
    "stop = timeit.default_timer()\n",
    "print('Time:',stop-start)"
   ]
  },
  {
   "cell_type": "code",
   "execution_count": 30,
   "metadata": {
    "Collapsed": "false"
   },
   "outputs": [
    {
     "data": {
      "image/png": "[encoded data removed]",
      "text/plain": [
       "<Figure size 432x288 with 1 Axes>"
      ]
     },
     "metadata": {
      "needs_background": "light"
     },
     "output_type": "display_data"
    }
   ],
   "source": [
    "#%% creating the inter-arrival time histogram\n",
    "dT = []\n",
    "for i in range(len(B)):\n",
    "    delta_t = np.array([G3[G3[:,3]==i][:,2]])\n",
    "    delta_t = np.sort(delta_t)  #sorted list of all timestamps that belong to node i\n",
    "    if len(delta_t[0,:])>1: #must be at least 2 values\n",
    "        for j in range(len(delta_t[0,:])-1):\n",
    "            diff = delta_t[0,j+1]-delta_t[0,j] #time difference\n",
    "            dT = np.append(dT,diff) #one gigantic list of timedifferences\n",
    "            \n",
    "plt.hist(dT,100)\n",
    "plt.xlabel('inter arrival time')\n",
    "plt.ylabel('frequency')\n",
    "plt.show()"
   ]
  },
  {
   "cell_type": "code",
   "execution_count": 85,
   "metadata": {
    "Collapsed": "false"
   },
   "outputs": [
    {
     "data": {
      "text/plain": [
       "0.035962129774796125"
      ]
     },
     "execution_count": 85,
     "metadata": {},
     "output_type": "execute_result"
    }
   ],
   "source": [
    "len(G3_rm)/len(B)"
   ]
  },
  {
   "cell_type": "code",
   "execution_count": 76,
   "metadata": {
    "Collapsed": "false"
   },
   "outputs": [
    {
     "ename": "NameError",
     "evalue": "name 'g' is not defined",
     "output_type": "error",
     "traceback": [
      "\u001b[0;31m---------------------------------------------------------------------------\u001b[0m",
      "\u001b[0;31mNameError\u001b[0m                                 Traceback (most recent call last)",
      "\u001b[0;32m<ipython-input-76-15e2d006abfb>\u001b[0m in \u001b[0;36m<module>\u001b[0;34m\u001b[0m\n\u001b[1;32m      8\u001b[0m \u001b[0mNlinks\u001b[0m \u001b[0;34m=\u001b[0m \u001b[0mlen\u001b[0m\u001b[0;34m(\u001b[0m\u001b[0mG3_rm\u001b[0m\u001b[0;34m)\u001b[0m\u001b[0;34m\u001b[0m\u001b[0;34m\u001b[0m\u001b[0m\n\u001b[1;32m      9\u001b[0m \u001b[0;32mfor\u001b[0m \u001b[0mi\u001b[0m \u001b[0;32min\u001b[0m \u001b[0mrange\u001b[0m\u001b[0;34m(\u001b[0m\u001b[0mNlinks\u001b[0m\u001b[0;34m)\u001b[0m\u001b[0;34m:\u001b[0m\u001b[0;34m\u001b[0m\u001b[0;34m\u001b[0m\u001b[0m\n\u001b[0;32m---> 10\u001b[0;31m     \u001b[0mg\u001b[0m\u001b[0;34m.\u001b[0m\u001b[0madd_edges\u001b[0m\u001b[0;34m(\u001b[0m\u001b[0;34m[\u001b[0m\u001b[0;34m(\u001b[0m\u001b[0mcol1\u001b[0m\u001b[0;34m[\u001b[0m\u001b[0mi\u001b[0m\u001b[0;34m]\u001b[0m\u001b[0;34m-\u001b[0m\u001b[0;36m1\u001b[0m\u001b[0;34m,\u001b[0m\u001b[0mcol2\u001b[0m\u001b[0;34m[\u001b[0m\u001b[0mi\u001b[0m\u001b[0;34m]\u001b[0m\u001b[0;34m-\u001b[0m\u001b[0;36m1\u001b[0m\u001b[0;34m)\u001b[0m\u001b[0;34m]\u001b[0m\u001b[0;34m)\u001b[0m\u001b[0;34m\u001b[0m\u001b[0;34m\u001b[0m\u001b[0m\n\u001b[0m",
      "\u001b[0;31mNameError\u001b[0m: name 'g' is not defined"
     ]
    }
   ],
   "source": [
    "G3_temp = G3[:,:2]\n",
    "G3_temp = pd.DataFrame(G3_temp,index=G3_temp[:,0])\n",
    "G3_rm =G3_temp.drop_duplicates()\n",
    "\n",
    "col1 = G3_rm[0]; col2 = G3_rm[1]\n",
    "col1 = col1.tolist(); col2 = col2.tolist()\n",
    "\n",
    "Nlinks = len(G3_rm)\n",
    "for i in range(Nlinks):\n",
    "    g.add_edges([(col1[i]-1,col2[i]-1)])"
   ]
  },
  {
   "cell_type": "code",
   "execution_count": 41,
   "metadata": {
    "Collapsed": "false"
   },
   "outputs": [],
   "source": [
    "x=[[1, 2], [3, 1], [2, 5], [6, 7], [8,6]]\n",
    "y=[1,2]\n",
    "if y not in x:\n",
    "    print(y)"
   ]
  },
  {
   "cell_type": "code",
   "execution_count": 89,
   "metadata": {
    "Collapsed": "false"
   },
   "outputs": [
    {
     "data": {
      "text/plain": [
       "82876"
      ]
     },
     "execution_count": 89,
     "metadata": {},
     "output_type": "execute_result"
    }
   ],
   "source": [
    "len(G3)"
   ]
  },
  {
   "cell_type": "code",
   "execution_count": null,
   "metadata": {
    "Collapsed": "false"
   },
   "outputs": [],
   "source": []
  }
 ],
 "metadata": {
  "kernelspec": {
   "display_name": "Python 3",
   "language": "python",
   "name": "python3"
  },
  "language_info": {
   "codemirror_mode": {
    "name": "ipython",
    "version": 3
   },
   "file_extension": ".py",
   "mimetype": "text/x-python",
   "name": "python",
   "nbconvert_exporter": "python",
   "pygments_lexer": "ipython3",
   "version": "3.7.6"
  }
 },
 "nbformat": 4,
 "nbformat_minor": 4
}
